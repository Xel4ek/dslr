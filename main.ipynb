{
 "cells": [
  {
   "cell_type": "markdown",
   "metadata": {},
   "source": [
    "# V.1 Data Analysis\n"
   ]
  },
  {
   "cell_type": "code",
   "execution_count": 20,
   "outputs": [
    {
     "data": {
      "text/plain": "            Index  Hogwarts_House  First_Name  Last_Name  Birthday  Best_Hand  \\\ncount  1600.00000             0.0         0.0        0.0       0.0        0.0   \nmean    799.50000             NaN         NaN        NaN       NaN        NaN   \nstd     462.02453             NaN         NaN        NaN       NaN        NaN   \nmin       0.00000             NaN         NaN        NaN       NaN        NaN   \n25%     399.75000             NaN         NaN        NaN       NaN        NaN   \n50%     799.50000             NaN         NaN        NaN       NaN        NaN   \n75%    1199.25000             NaN         NaN        NaN       NaN        NaN   \nmax    1599.00000             NaN         NaN        NaN       NaN        NaN   \n\n          Arithmancy    Astronomy    Herbology  Defense_Against_the_Dark_Arts  \\\ncount    1566.000000  1568.000000  1567.000000                    1569.000000   \nmean    49634.570243    39.797131     1.141020                      -0.387863   \nstd     16679.806036   520.298268     5.219682                       5.212794   \nmin    -24370.000000  -966.740546   -10.295663                     -10.162119   \n25%     38511.500000  -489.551387    -4.308182                      -5.259095   \n50%     49013.500000   260.289446     3.469012                      -2.589342   \n75%     60811.250000   524.771949     5.419183                       4.904680   \nmax    104956.000000  1016.211940    11.612895                       9.667405   \n\n        Divination  Muggle_Studies  Ancient_Runes  History_of_Magic  \\\ncount  1561.000000     1565.000000    1565.000000       1557.000000   \nmean      3.153910     -224.589915     495.747970          2.963095   \nstd       4.155301      486.344840     106.285165          4.425775   \nmin      -8.727000    -1086.496835     283.869609         -8.858993   \n25%       3.099000     -577.580096     397.511047          2.218653   \n50%       4.624000     -419.164294     463.918305          4.378176   \n75%       5.667000      254.994857     597.492230          5.825242   \nmax      10.032000     1092.388611     745.396220         11.889713   \n\n       Transfiguration      Potions  Care_of_Magical_Creatures       Charms  \\\ncount      1566.000000  1570.000000                1560.000000  1600.000000   \nmean       1030.096946     5.950373                  -0.053427  -243.374409   \nstd          44.125116     3.147854                   0.971457     8.783640   \nmin         906.627320    -4.697484                  -3.313676  -261.048920   \n25%        1026.209993     3.646785                  -0.671606  -250.652600   \n50%        1045.506996     5.874837                  -0.044811  -244.867765   \n75%        1058.436410     8.248173                   0.589919  -232.552305   \nmax        1098.958201    13.536762                   3.056546  -225.428140   \n\n            Flying  \ncount  1600.000000  \nmean     21.958012  \nstd      97.631602  \nmin    -181.470000  \n25%     -41.870000  \n50%      -2.515000  \n75%      50.560000  \nmax     279.070000  ",
      "text/html": "<div>\n<style scoped>\n    .dataframe tbody tr th:only-of-type {\n        vertical-align: middle;\n    }\n\n    .dataframe tbody tr th {\n        vertical-align: top;\n    }\n\n    .dataframe thead th {\n        text-align: right;\n    }\n</style>\n<table border=\"1\" class=\"dataframe\">\n  <thead>\n    <tr style=\"text-align: right;\">\n      <th></th>\n      <th>Index</th>\n      <th>Hogwarts_House</th>\n      <th>First_Name</th>\n      <th>Last_Name</th>\n      <th>Birthday</th>\n      <th>Best_Hand</th>\n      <th>Arithmancy</th>\n      <th>Astronomy</th>\n      <th>Herbology</th>\n      <th>Defense_Against_the_Dark_Arts</th>\n      <th>Divination</th>\n      <th>Muggle_Studies</th>\n      <th>Ancient_Runes</th>\n      <th>History_of_Magic</th>\n      <th>Transfiguration</th>\n      <th>Potions</th>\n      <th>Care_of_Magical_Creatures</th>\n      <th>Charms</th>\n      <th>Flying</th>\n    </tr>\n  </thead>\n  <tbody>\n    <tr>\n      <th>count</th>\n      <td>1600.00000</td>\n      <td>0.0</td>\n      <td>0.0</td>\n      <td>0.0</td>\n      <td>0.0</td>\n      <td>0.0</td>\n      <td>1566.000000</td>\n      <td>1568.000000</td>\n      <td>1567.000000</td>\n      <td>1569.000000</td>\n      <td>1561.000000</td>\n      <td>1565.000000</td>\n      <td>1565.000000</td>\n      <td>1557.000000</td>\n      <td>1566.000000</td>\n      <td>1570.000000</td>\n      <td>1560.000000</td>\n      <td>1600.000000</td>\n      <td>1600.000000</td>\n    </tr>\n    <tr>\n      <th>mean</th>\n      <td>799.50000</td>\n      <td>NaN</td>\n      <td>NaN</td>\n      <td>NaN</td>\n      <td>NaN</td>\n      <td>NaN</td>\n      <td>49634.570243</td>\n      <td>39.797131</td>\n      <td>1.141020</td>\n      <td>-0.387863</td>\n      <td>3.153910</td>\n      <td>-224.589915</td>\n      <td>495.747970</td>\n      <td>2.963095</td>\n      <td>1030.096946</td>\n      <td>5.950373</td>\n      <td>-0.053427</td>\n      <td>-243.374409</td>\n      <td>21.958012</td>\n    </tr>\n    <tr>\n      <th>std</th>\n      <td>462.02453</td>\n      <td>NaN</td>\n      <td>NaN</td>\n      <td>NaN</td>\n      <td>NaN</td>\n      <td>NaN</td>\n      <td>16679.806036</td>\n      <td>520.298268</td>\n      <td>5.219682</td>\n      <td>5.212794</td>\n      <td>4.155301</td>\n      <td>486.344840</td>\n      <td>106.285165</td>\n      <td>4.425775</td>\n      <td>44.125116</td>\n      <td>3.147854</td>\n      <td>0.971457</td>\n      <td>8.783640</td>\n      <td>97.631602</td>\n    </tr>\n    <tr>\n      <th>min</th>\n      <td>0.00000</td>\n      <td>NaN</td>\n      <td>NaN</td>\n      <td>NaN</td>\n      <td>NaN</td>\n      <td>NaN</td>\n      <td>-24370.000000</td>\n      <td>-966.740546</td>\n      <td>-10.295663</td>\n      <td>-10.162119</td>\n      <td>-8.727000</td>\n      <td>-1086.496835</td>\n      <td>283.869609</td>\n      <td>-8.858993</td>\n      <td>906.627320</td>\n      <td>-4.697484</td>\n      <td>-3.313676</td>\n      <td>-261.048920</td>\n      <td>-181.470000</td>\n    </tr>\n    <tr>\n      <th>25%</th>\n      <td>399.75000</td>\n      <td>NaN</td>\n      <td>NaN</td>\n      <td>NaN</td>\n      <td>NaN</td>\n      <td>NaN</td>\n      <td>38511.500000</td>\n      <td>-489.551387</td>\n      <td>-4.308182</td>\n      <td>-5.259095</td>\n      <td>3.099000</td>\n      <td>-577.580096</td>\n      <td>397.511047</td>\n      <td>2.218653</td>\n      <td>1026.209993</td>\n      <td>3.646785</td>\n      <td>-0.671606</td>\n      <td>-250.652600</td>\n      <td>-41.870000</td>\n    </tr>\n    <tr>\n      <th>50%</th>\n      <td>799.50000</td>\n      <td>NaN</td>\n      <td>NaN</td>\n      <td>NaN</td>\n      <td>NaN</td>\n      <td>NaN</td>\n      <td>49013.500000</td>\n      <td>260.289446</td>\n      <td>3.469012</td>\n      <td>-2.589342</td>\n      <td>4.624000</td>\n      <td>-419.164294</td>\n      <td>463.918305</td>\n      <td>4.378176</td>\n      <td>1045.506996</td>\n      <td>5.874837</td>\n      <td>-0.044811</td>\n      <td>-244.867765</td>\n      <td>-2.515000</td>\n    </tr>\n    <tr>\n      <th>75%</th>\n      <td>1199.25000</td>\n      <td>NaN</td>\n      <td>NaN</td>\n      <td>NaN</td>\n      <td>NaN</td>\n      <td>NaN</td>\n      <td>60811.250000</td>\n      <td>524.771949</td>\n      <td>5.419183</td>\n      <td>4.904680</td>\n      <td>5.667000</td>\n      <td>254.994857</td>\n      <td>597.492230</td>\n      <td>5.825242</td>\n      <td>1058.436410</td>\n      <td>8.248173</td>\n      <td>0.589919</td>\n      <td>-232.552305</td>\n      <td>50.560000</td>\n    </tr>\n    <tr>\n      <th>max</th>\n      <td>1599.00000</td>\n      <td>NaN</td>\n      <td>NaN</td>\n      <td>NaN</td>\n      <td>NaN</td>\n      <td>NaN</td>\n      <td>104956.000000</td>\n      <td>1016.211940</td>\n      <td>11.612895</td>\n      <td>9.667405</td>\n      <td>10.032000</td>\n      <td>1092.388611</td>\n      <td>745.396220</td>\n      <td>11.889713</td>\n      <td>1098.958201</td>\n      <td>13.536762</td>\n      <td>3.056546</td>\n      <td>-225.428140</td>\n      <td>279.070000</td>\n    </tr>\n  </tbody>\n</table>\n</div>"
     },
     "execution_count": 20,
     "metadata": {},
     "output_type": "execute_result"
    }
   ],
   "source": [
    "import numpy as np\n",
    "import pandas as pd\n",
    "\n",
    "data = np.genfromtxt('resources/dataset_train.csv', delimiter=',', names=True)\n",
    "df = pd.DataFrame(data)\n",
    "df.describe()"
   ],
   "metadata": {
    "collapsed": false,
    "pycharm": {
     "name": "#%%\n"
    }
   }
  },
  {
   "cell_type": "code",
   "execution_count": 21,
   "metadata": {
    "pycharm": {
     "name": "#%%\n"
    }
   },
   "outputs": [
    {
     "name": "stdout",
     "output_type": "stream",
     "text": [
      "       \t         Index Hogwarts_House     First_Name      Last_Name       Birthday      Best_Hand     Arithmancy      Astronomy      Herbology Defense_Against_the_Dark_Arts     Divination Muggle_Studies  Ancient_Runes History_of_Magic Transfiguration        Potions Care_of_Magical_Creatures         Charms         Flying\n",
      "Count  \t    400.000000       0.000000       0.000000       0.000000       0.000000       0.000000     387.000000     387.000000     389.000000                    392.000000     394.000000     390.000000     392.000000       389.000000      389.000000     390.000000                392.000000     400.000000     400.000000\n",
      "Mean   \t    199.500000            nan            nan            nan            nan            nan   50088.971576      48.155326       1.385517                     -0.537843       3.411071    -220.169594     495.937543         2.829816     1030.885777       5.776860                  0.022985    -243.181109      23.367450\n",
      "Std    \t    115.469693       0.000000       0.000000       0.000000       0.000000       0.000000   15199.563611     503.488483       4.978888                      5.060849       3.856993     490.778132     100.507266         4.251958       44.661516       3.173074                  1.007476       8.716274      95.066887\n",
      "Min    \t      0.000000            nan            nan            nan            nan            nan    4536.000000    -802.725180      -9.687662                     -8.700635      -8.183000   -1041.323658     319.360250        -7.189090      906.932050      -1.162060                 -2.871119    -259.866780    -143.520000\n",
      "25%    \t     99.750000            nan            nan            nan            nan            nan   40167.500000    -483.719690      -4.183731                     -5.209348       3.528750    -580.049325     400.719831         2.227669     1028.499974       3.230372                 -0.646285    -250.150987     -38.475000\n",
      "50%    \t    199.500000            nan            nan            nan            nan            nan   49238.000000     292.108738       3.630490                     -2.915654       4.703000    -407.549022     484.102477         4.290164     1047.648405       5.731330                  0.059416    -244.758710      -2.555000\n",
      "75%    \t    299.250000            nan            nan            nan            nan            nan   60157.000000     508.713093       5.405685                      4.785055       5.571000     221.387925     591.372101         5.662488     1060.367924       8.136907                  0.711248    -232.798160      45.332500\n",
      "Max    \t    399.000000            nan            nan            nan            nan            nan   99744.000000     870.063498       9.678462                      8.027252       8.604000     939.317135     667.674165        10.366995     1099.966073      13.390013                  3.205525    -226.003820     282.430000\n"
     ]
    }
   ],
   "source": [
    "%run describe.py ./resources/dataset_test.csv\n"
   ]
  }
 ],
 "metadata": {
  "kernelspec": {
   "display_name": "Python 3 (ipykernel)",
   "language": "python",
   "name": "python3"
  },
  "language_info": {
   "codemirror_mode": {
    "name": "ipython",
    "version": 3
   },
   "file_extension": ".py",
   "mimetype": "text/x-python",
   "name": "python",
   "nbconvert_exporter": "python",
   "pygments_lexer": "ipython3",
   "version": "3.8.2"
  },
  "pycharm": {
   "stem_cell": {
    "cell_type": "raw",
    "source": [
     "%run main.py\n"
    ],
    "metadata": {
     "collapsed": false
    }
   }
  }
 },
 "nbformat": 4,
 "nbformat_minor": 1
}